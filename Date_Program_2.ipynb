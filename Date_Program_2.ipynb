{
  "nbformat": 4,
  "nbformat_minor": 0,
  "metadata": {
    "colab": {
      "provenance": [],
      "authorship_tag": "ABX9TyNnwrdEZ44DFKMIpwn/YoOd",
      "include_colab_link": true
    },
    "kernelspec": {
      "name": "python3",
      "display_name": "Python 3"
    },
    "language_info": {
      "name": "python"
    }
  },
  "cells": [
    {
      "cell_type": "markdown",
      "metadata": {
        "id": "view-in-github",
        "colab_type": "text"
      },
      "source": [
        "<a href=\"https://colab.research.google.com/github/nicolebuckman/BTE-320-Portfolio/blob/main/Date_Program_2.ipynb\" target=\"_parent\"><img src=\"https://colab.research.google.com/assets/colab-badge.svg\" alt=\"Open In Colab\"/></a>"
      ]
    },
    {
      "cell_type": "code",
      "execution_count": 3,
      "metadata": {
        "colab": {
          "base_uri": "https://localhost:8080/"
        },
        "id": "wyrIgO7LBX-f",
        "outputId": "8194aaab-7c53-4fb3-d16d-7f4296986ec5"
      },
      "outputs": [
        {
          "output_type": "stream",
          "name": "stdout",
          "text": [
            "Enter a date (MM/DD/YYYY): 02/02/2004\n",
            "2 2 2004\n"
          ]
        }
      ],
      "source": [
        "date = input('Enter a date (MM/DD/YYYY): ')\n",
        "\n",
        "month = int(date[:2])\n",
        "day = int(date[3:5])\n",
        "year = int(date[6:])\n",
        "print(month, day, year)"
      ]
    }
  ]
}
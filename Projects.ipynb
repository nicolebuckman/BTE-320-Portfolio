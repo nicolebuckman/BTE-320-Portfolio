{
  "nbformat": 4,
  "nbformat_minor": 0,
  "metadata": {
    "colab": {
      "provenance": [],
      "include_colab_link": true
    },
    "kernelspec": {
      "name": "python3",
      "display_name": "Python 3"
    },
    "language_info": {
      "name": "python"
    }
  },
  "cells": [
    {
      "cell_type": "markdown",
      "metadata": {
        "id": "view-in-github",
        "colab_type": "text"
      },
      "source": [
        "<a href=\"https://colab.research.google.com/github/nicolebuckman/BTE-320-Portfolio/blob/main/Projects.ipynb\" target=\"_parent\"><img src=\"https://colab.research.google.com/assets/colab-badge.svg\" alt=\"Open In Colab\"/></a>"
      ]
    },
    {
      "cell_type": "markdown",
      "source": [
        "#Rock Paper Scissors\n",
        "Create a program that allows you to play rock paper scissors against the computer."
      ],
      "metadata": {
        "id": "ZlGatxxgnMXe"
      }
    },
    {
      "cell_type": "code",
      "execution_count": null,
      "metadata": {
        "id": "FP-c-lbnE1dh"
      },
      "outputs": [],
      "source": [
        "import random\n",
        "user_choice = input('Choose rock, paper, or scissors: ')\n",
        "pc_choice = random.choice(['rock','paper','scissors'])\n",
        "\n",
        "if pc_choice == user_choice:\n",
        "  print(f'The computer chose {pc_choice}. It\\'s a tie!')\n",
        "elif (pc_choice == 'rock' and user_choice == 'paper') or (pc_choice == 'paper' and user_choice == 'scissors') or (pc_choice == 'scissors' and user_choice == 'rock'):\n",
        "  print (f'The computer chose {pc_choice}! Congrats, you win!')\n",
        "else:\n",
        "  print (f'The computer chose {pc_choice}. You lose. Maybe next time :(')\n"
      ]
    },
    {
      "cell_type": "code",
      "source": [
        "import random\n",
        "\n",
        "userinput = input(\"Would you like to play? (y/n) \")\n",
        "while userinput == \"y\":\n",
        "  user_choice = input('Choose rock, paper, or scissors: ')\n",
        "  pc_choice = random.choice(['rock','paper','scissors'])\n",
        "\n",
        "  if pc_choice == user_choice:\n",
        "    print(f'The computer chose {pc_choice}. It\\'s a tie!')\n",
        "  elif (pc_choice == 'rock' and user_choice == 'paper') or (pc_choice == 'paper' and user_choice == 'scissors') or (pc_choice == 'scissors' and user_choice == 'rock'):\n",
        "    print (f'The computer chose {pc_choice}! Congrats, you win!')\n",
        "  else:\n",
        "    print (f'The computer chose {pc_choice}. You lose. Maybe next time :(')\n",
        "  userinput = input(\"Would you like to play again? (y/n) \")\n",
        "\n",
        "print (f'It was fun playing! Bye!')\n"
      ],
      "metadata": {
        "colab": {
          "base_uri": "https://localhost:8080/"
        },
        "id": "rPIArHK7K9cI",
        "outputId": "e967a805-fc73-4765-f2fa-2392afbe43e0"
      },
      "execution_count": null,
      "outputs": [
        {
          "output_type": "stream",
          "name": "stdout",
          "text": [
            "Would you like to play? (y/n) n\n",
            "It was fun playing! Bye!\n"
          ]
        }
      ]
    },
    {
      "cell_type": "markdown",
      "source": [
        "#Leap Year\n",
        "\n",
        "Create a program that identifies whether a year is a leap year."
      ],
      "metadata": {
        "id": "6et01KFNnBz7"
      }
    },
    {
      "cell_type": "code",
      "source": [
        "year = int(input(\"Enter a year: \"))\n",
        "\n",
        "if (year%4 == 0 and year%100 != 0) or year%400 == 0:\n",
        "  print (f'Yes, {year} is  a leap year!')\n",
        "else:\n",
        "  print (f'No, {year} is not a leap year.')"
      ],
      "metadata": {
        "colab": {
          "base_uri": "https://localhost:8080/"
        },
        "id": "XdVo6xvzILg_",
        "outputId": "0a4724f4-6e26-4ac3-8869-928d4f9166da"
      },
      "execution_count": null,
      "outputs": [
        {
          "output_type": "stream",
          "name": "stdout",
          "text": [
            "Enter a year: 1902\n",
            "No, 1902 is not a leap year.\n"
          ]
        }
      ]
    },
    {
      "cell_type": "markdown",
      "source": [
        "#Parking Garage Problem\n",
        "\n",
        "A parking garage charges \\$5 plus \\$2.50 for each hour parked. The minimum fee is \\$10 and the maximum fee is \\$20. Write a program that generates a table with hours parked and the corresponding fee from 1 to 8 hours."
      ],
      "metadata": {
        "id": "q3sPJtVW1pQR"
      }
    },
    {
      "cell_type": "code",
      "source": [
        "\n",
        "for hour in range(1,9):\n",
        "  fee = 5 + 2.5*hour\n",
        "  if fee<10:\n",
        "    fee = 10.0\n",
        "  elif fee>20:\n",
        "    fee = 20.0\n",
        "  print (f'{hour} ${fee}')"
      ],
      "metadata": {
        "colab": {
          "base_uri": "https://localhost:8080/"
        },
        "id": "9IP8rvpj1rxO",
        "outputId": "67167bb5-6844-4d98-af32-365a5531443c"
      },
      "execution_count": null,
      "outputs": [
        {
          "output_type": "stream",
          "name": "stdout",
          "text": [
            "1 $10.0\n",
            "2 $10.0\n",
            "3 $12.5\n",
            "4 $15.0\n",
            "5 $17.5\n",
            "6 $20.0\n",
            "7 $20.0\n",
            "8 $20.0\n"
          ]
        }
      ]
    },
    {
      "cell_type": "markdown",
      "source": [
        "#Movie Theater Problem\n",
        "\n",
        "A movie theater manager is deciding how much to spend on advertsiing for an upcoming movie. Each ticket is \\$10. Without any advertising, 20 people are forecasted to attend. Additional people may attend based on advertising spending, estimated to be:\n",
        "\n",
        "  Additional attendees = 2 * round(advertisingDollars**0.5)\n",
        "\n",
        "  In addition to advertising costs , there are fixed costs to run the theater of $200.\n",
        "\n",
        "Write a program to generate a table for different advertising amounts and profits.\n"
      ],
      "metadata": {
        "id": "UpUoSEGQ73mk"
      }
    },
    {
      "cell_type": "code",
      "source": [
        "print(f'Ad$ Profit')\n",
        "\n",
        "init_attendees = 20\n",
        "fixed_cost = 200\n",
        "\n",
        "for advertising in range(0, 201, 25):\n",
        "  ad = float(advertising)\n",
        "  attendees = float(2*round(advertising**0.5) + init_attendees)\n",
        "  profit = float((attendees * 10) - advertising - fixed_cost)\n",
        "  print(f'{ad} ${profit}')"
      ],
      "metadata": {
        "colab": {
          "base_uri": "https://localhost:8080/"
        },
        "id": "3hPORq4l73Rp",
        "outputId": "27fa2082-9b54-4c10-cca2-27f146ffaed4"
      },
      "execution_count": null,
      "outputs": [
        {
          "output_type": "stream",
          "name": "stdout",
          "text": [
            "Ad$ Profit\n",
            "0.0 $0.0\n",
            "25.0 $75.0\n",
            "50.0 $90.0\n",
            "75.0 $105.0\n",
            "100.0 $100.0\n",
            "125.0 $95.0\n",
            "150.0 $90.0\n",
            "175.0 $85.0\n",
            "200.0 $80.0\n"
          ]
        }
      ]
    }
  ]
}
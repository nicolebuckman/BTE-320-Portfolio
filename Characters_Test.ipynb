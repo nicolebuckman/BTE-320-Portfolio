{
  "nbformat": 4,
  "nbformat_minor": 0,
  "metadata": {
    "colab": {
      "provenance": [],
      "authorship_tag": "ABX9TyPvcwa5pfFZ2G3Vp5OUnrE3",
      "include_colab_link": true
    },
    "kernelspec": {
      "name": "python3",
      "display_name": "Python 3"
    },
    "language_info": {
      "name": "python"
    }
  },
  "cells": [
    {
      "cell_type": "markdown",
      "metadata": {
        "id": "view-in-github",
        "colab_type": "text"
      },
      "source": [
        "<a href=\"https://colab.research.google.com/github/nicolebuckman/BTE-320-Portfolio/blob/main/Characters_Test.ipynb\" target=\"_parent\"><img src=\"https://colab.research.google.com/assets/colab-badge.svg\" alt=\"Open In Colab\"/></a>"
      ]
    },
    {
      "cell_type": "code",
      "execution_count": 1,
      "metadata": {
        "id": "SxxXriI7VDnP"
      },
      "outputs": [],
      "source": [
        "s = 'This is another test'"
      ]
    },
    {
      "cell_type": "code",
      "source": [
        "s1 = 'abcdefg'\n",
        "s2 = 'abdght'\n",
        "\n",
        "for char in s1:\n",
        "  if char in s2:\n",
        "    print(char)"
      ],
      "metadata": {
        "colab": {
          "base_uri": "https://localhost:8080/"
        },
        "id": "dnpZQ8EcVH2-",
        "outputId": "c8a19dfc-b78d-460b-a950-65112723cde3"
      },
      "execution_count": 2,
      "outputs": [
        {
          "output_type": "stream",
          "name": "stdout",
          "text": [
            "a\n",
            "b\n",
            "d\n",
            "g\n"
          ]
        }
      ]
    },
    {
      "cell_type": "code",
      "source": [
        "s1 = 'abcdefg'\n",
        "s2 = 'abdght'\n",
        "\n",
        "for index in range(len(s1)):\n",
        "  char = s1[index]\n",
        "  if char in s2:\n",
        "    print(char)"
      ],
      "metadata": {
        "colab": {
          "base_uri": "https://localhost:8080/"
        },
        "id": "q8QvxnblXI3J",
        "outputId": "70171960-c793-4d54-88d0-98d7c2712d70"
      },
      "execution_count": 3,
      "outputs": [
        {
          "output_type": "stream",
          "name": "stdout",
          "text": [
            "a\n",
            "b\n",
            "d\n",
            "g\n"
          ]
        }
      ]
    }
  ]
}
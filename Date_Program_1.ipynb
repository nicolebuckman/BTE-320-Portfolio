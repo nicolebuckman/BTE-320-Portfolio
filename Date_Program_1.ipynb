{
  "nbformat": 4,
  "nbformat_minor": 0,
  "metadata": {
    "colab": {
      "provenance": [],
      "include_colab_link": true
    },
    "kernelspec": {
      "name": "python3",
      "display_name": "Python 3"
    },
    "language_info": {
      "name": "python"
    }
  },
  "cells": [
    {
      "cell_type": "markdown",
      "metadata": {
        "id": "view-in-github",
        "colab_type": "text"
      },
      "source": [
        "<a href=\"https://colab.research.google.com/github/nicolebuckman/BTE-320-Portfolio/blob/main/Date_Program_1.ipynb\" target=\"_parent\"><img src=\"https://colab.research.google.com/assets/colab-badge.svg\" alt=\"Open In Colab\"/></a>"
      ]
    },
    {
      "cell_type": "markdown",
      "source": [
        "#Date Program\n",
        "Design a program that asks a user for todays date (Enter date: )\n",
        "- The user must provide the input in this format: MM/DD/YYYY\n",
        "- Create a variable for month, day, and year\n"
      ],
      "metadata": {
        "id": "nAq-ZSnD-74v"
      }
    },
    {
      "cell_type": "code",
      "execution_count": null,
      "metadata": {
        "id": "ajJX8YEO-7k0"
      },
      "outputs": [],
      "source": [
        "user_input = input(\"Enter a date (MM/DD/YYYY): \")\n",
        "month = user_input[:2]\n",
        "day = user_input[3:5]\n",
        "year = user_input[6:]\n",
        "print(f'The month you entered is: {month}\\nThe day you entered is: {day}\\nThe year you entered is: {year}')"
      ]
    }
  ]
}
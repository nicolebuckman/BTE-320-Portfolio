{
  "nbformat": 4,
  "nbformat_minor": 0,
  "metadata": {
    "colab": {
      "provenance": [],
      "authorship_tag": "ABX9TyOCSYcbxFJa1uFuoJArKNNd",
      "include_colab_link": true
    },
    "kernelspec": {
      "name": "python3",
      "display_name": "Python 3"
    },
    "language_info": {
      "name": "python"
    }
  },
  "cells": [
    {
      "cell_type": "markdown",
      "metadata": {
        "id": "view-in-github",
        "colab_type": "text"
      },
      "source": [
        "<a href=\"https://colab.research.google.com/github/nicolebuckman/BTE-320-Portfolio/blob/main/List.ipynb\" target=\"_parent\"><img src=\"https://colab.research.google.com/assets/colab-badge.svg\" alt=\"Open In Colab\"/></a>"
      ]
    },
    {
      "cell_type": "code",
      "execution_count": 1,
      "metadata": {
        "colab": {
          "base_uri": "https://localhost:8080/"
        },
        "id": "MjC88sNlEWUw",
        "outputId": "c9e10ed9-3d5e-4c9a-9030-29e6a053712f"
      },
      "outputs": [
        {
          "output_type": "stream",
          "name": "stdout",
          "text": [
            "Enter an item (or '0' to finish: )1\n",
            "Enter an item (or '0' to finish: )2\n",
            "Enter an item (or '0' to finish: )3\n",
            "Enter an item (or '0' to finish: )0\n",
            "List of items entered: [1, 2, 3]\n"
          ]
        }
      ],
      "source": [
        "L = []\n",
        "\n",
        "while True:\n",
        "  item = int(input(\"Enter an item (or '0' to finish: )\"))\n",
        "  if item == 0:\n",
        "    break\n",
        "  L.append(item)\n",
        "\n",
        "print(\"List of items entered:\", L)\n",
        "\n"
      ]
    }
  ]
}